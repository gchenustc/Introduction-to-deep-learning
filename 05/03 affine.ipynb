{
 "cells": [
  {
   "cell_type": "code",
   "execution_count": 16,
   "metadata": {},
   "outputs": [],
   "source": [
    "import numpy as np\n",
    "\n",
    "class Affine(object):\n",
    "    def __init__(self, W, b):\n",
    "        self.W = W\n",
    "        self.b = b\n",
    "\n",
    "        self.x = None\n",
    "        self.dW = None\n",
    "        self.db = None\n",
    "\n",
    "        self.original_x_shape = None\n",
    "        # self.dx = None # 可以不设置，因为dx是直接返回的\n",
    "    \n",
    "    def forward(self, x): # x 传入的是二维数组(多个数据,或者单个数据reshape成二维)\n",
    "        self.original_x_shape = x.shape # 如果传入的 x.shape 不是 [N,784] 的形式，而是 [N,1,28,28]的形式，先把shape备份下来再转换为[N,784]，之后反向传播输出dx时以 [N,1,28,28] 的形式输出\n",
    "        x = x.reshape(x.shape[0],-1) # 如果 x.shape=[N,784]，则不变\n",
    "\n",
    "        # 运行forward，输入的x会被类保留下来，后面反向传播求 dw=x.t*dout 用的到\n",
    "        self.x = x  # 保留 self.x 用于 backward 计算 dw=x.T*dout\n",
    "        \n",
    "        out = np.dot(self.x, self.W) + self.b\n",
    "        return out\n",
    "    \n",
    "    def backward(self, dout):\n",
    "        # 虽然返回的是dx,但是dw和db会被类保留,dx=dout*W.T 中的W初始化就得到了，dw=x.T*dout 中的x在forward中传入\n",
    "        self.dW = np.dot(self.x.T,dout) \n",
    "        self.db = np.sum(dout,axis=0)\n",
    "        \n",
    "        dx = np.dot(dout,self.W.T)\n",
    "        # dx.shape 从 [N,784] 的形式还原成 [N,1,28,28]的形式\n",
    "        dx = dx.reshape(self.original_x_shape)\n",
    "        return dx"
   ]
  }
 ],
 "metadata": {
  "kernelspec": {
   "display_name": "Python 3.10.0 64-bit",
   "language": "python",
   "name": "python3"
  },
  "language_info": {
   "codemirror_mode": {
    "name": "ipython",
    "version": 3
   },
   "file_extension": ".py",
   "mimetype": "text/x-python",
   "name": "python",
   "nbconvert_exporter": "python",
   "pygments_lexer": "ipython3",
   "version": "3.10.0"
  },
  "orig_nbformat": 4,
  "vscode": {
   "interpreter": {
    "hash": "52078a61cf360e1cb9de801769e3cf77056a7e6fc9ad1b4a4e5b78b8e2b4c3dc"
   }
  }
 },
 "nbformat": 4,
 "nbformat_minor": 2
}
