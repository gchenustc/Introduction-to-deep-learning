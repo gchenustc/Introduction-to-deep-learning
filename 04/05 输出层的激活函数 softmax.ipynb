{
 "cells": [
  {
   "cell_type": "markdown",
   "metadata": {},
   "source": [
    "## softmax\n",
    "机器学习大致分成 分类，回归  \n",
    "一般，回归使用恒等函数，二分类使用 sigmoid 函数，多元分类使用 softmax  \n",
    "$$  \n",
    "y_k = \\frac{exp(a_k)}{\\Sigma _{i=1}^{n} exp(a_i)}\n",
    "$$\n",
    "$$\n",
    "\\Sigma _{k=1}^{n} y_k = 1\n",
    "$$  \n",
    "如果 数组a 中某些的值过大，会导致 exp($a_i$) 的值过大，导致溢出，上式等价为  \n",
    "$$  \n",
    "y_k = \\frac{exp(a_k - c)}{\\Sigma _{i=1}^{n} exp(a_i - c)}\n",
    "$$"
   ]
  },
  {
   "cell_type": "code",
   "execution_count": 1,
   "metadata": {},
   "outputs": [],
   "source": [
    "import numpy as np\n",
    "import matplotlib.pyplot as plt\n",
    "\n",
    "# def softmax(x):\n",
    "#     \"\"\"对于单个数据的softmax\"\"\"\n",
    "#     c = np.max(x)\n",
    "#     exp_a = np.exp(x-c)\n",
    "#     sum_exp_a = np.sum(exp_a)\n",
    "#     return exp_a / sum_exp_a\n",
    "\n",
    "\n",
    "# softmax 实现1\n",
    "# def softmax(x):\n",
    "#     if x.ndim == 1:  # x = [1,2,3,4]\n",
    "#         x = x[None,:] - np.max(x,axis=0) # x = [[1,2,3,4]] - np.max([1,2,3,4]) = [[1,2,3,4]] - 4\n",
    "#         # 如果是一维的x，最终仍然以二维数组的形式返回，比如返回值是 [[0.2,10,20]]\n",
    "#     else:\n",
    "#         x = x - np.max(x, axis=1).reshape(-1,1) # x = [[1,2,3],[2,3,4]] - [3,4].reshape(-1,1) = [[1,2,3],[2,3,4]] - [[3],[4]]\n",
    "\n",
    "#     return np.exp(x) / np.sum(np.exp(x),axis=1).reshape((-1,1))\n",
    "\n",
    "\n",
    "# softmax 实现2\n",
    "def softmax(x):\n",
    "    \"\"\"输入一维数组或者二维数组，输入一维返回一维，输入二维返回二维\"\"\"\n",
    "    if x.ndim == 2: # x=[[1,2,3],[2,3,4]]\n",
    "        x = x.T # x=[[1,2],[2,3],[3,4]]\n",
    "        x = x - np.max(x,axis=0) # x=x - [3,4] = [[1-3,2-4],[2-3,3-4],[3-3,4-4]] = [[-2,-2],[-1,-1],[0,0]]\n",
    "        y = np.exp(x) / np.sum(np.exp(x), axis=0)\n",
    "        return y.T # 返回二维数组\n",
    "    # x.ndim == 1 的情况\n",
    "    x = x-np.max(x)\n",
    "    return np.exp(x) / np.sum(np.exp(x)) # 返回一维数组比如,ret.shape=(3,)"
   ]
  },
  {
   "cell_type": "code",
   "execution_count": 2,
   "metadata": {},
   "outputs": [
    {
     "data": {
      "image/png": "[encoded data removed]",
      "text/plain": [
       "<Figure size 432x288 with 1 Axes>"
      ]
     },
     "metadata": {
      "needs_background": "light"
     },
     "output_type": "display_data"
    }
   ],
   "source": [
    "x = np.arange(-10,10,0.1)\n",
    "\n",
    "plt.plot(x,softmax(x))  # 蓝线\n",
    "plt.show()"
   ]
  },
  {
   "cell_type": "code",
   "execution_count": 3,
   "metadata": {},
   "outputs": [
    {
     "data": {
      "image/png": "[encoded data removed]",
      "text/plain": [
       "<Figure size 432x288 with 1 Axes>"
      ]
     },
     "metadata": {
      "needs_background": "light"
     },
     "output_type": "display_data"
    }
   ],
   "source": [
    "# 对比 softmax 与 线性\n",
    "x = np.arange(1,10,1)\n",
    "\n",
    "plt.plot(x,softmax(x))  # 蓝线\n",
    "plt.plot(x,x/np.sum(x))\n",
    "plt.show()"
   ]
  }
 ],
 "metadata": {
  "kernelspec": {
   "display_name": "Python 3.10.0 64-bit",
   "language": "python",
   "name": "python3"
  },
  "language_info": {
   "codemirror_mode": {
    "name": "ipython",
    "version": 3
   },
   "file_extension": ".py",
   "mimetype": "text/x-python",
   "name": "python",
   "nbconvert_exporter": "python",
   "pygments_lexer": "ipython3",
   "version": "3.10.0"
  },
  "orig_nbformat": 4,
  "vscode": {
   "interpreter": {
    "hash": "52078a61cf360e1cb9de801769e3cf77056a7e6fc9ad1b4a4e5b78b8e2b4c3dc"
   }
  }
 },
 "nbformat": 4,
 "nbformat_minor": 2
}
