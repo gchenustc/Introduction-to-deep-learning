{
 "cells": [
  {
   "cell_type": "markdown",
   "metadata": {},
   "source": [
    "## 感知机\n",
    "w1 和 w2 是权重，权重越大，神经元越容易被激活  \n",
    "theta 指的是阈值，神经元回传过来信号的总和(比如下面的 w1x1 + w2x2)，当信号超过阈值 theta 时，神经元会被激活，也就是 y=1  \n",
    "y = 0 w1x1 + w2x2 <= theta  \n",
    "y = 1 w1x1 + w2x2 > theta   "
   ]
  },
  {
   "cell_type": "markdown",
   "metadata": {},
   "source": [
    "### 与门\n",
    "x1 x2 输出  \n",
    "0   0   0       0 <= theta  \n",
    "1   0   0       w1 <= theta  \n",
    "0   1   0       w2 <= theta   \n",
    "1   1   1       w1 + w2 > theta  \n",
    "\n",
    "现在要由与门的定义，给出 w1,w2和theta  \n",
    "-->   \n",
    "w1 = 0.5    w2 = 0.5    theta 0.5  "
   ]
  },
  {
   "cell_type": "code",
   "execution_count": 6,
   "metadata": {},
   "outputs": [
    {
     "name": "stdout",
     "output_type": "stream",
     "text": [
      "0 0 0 1\n"
     ]
    }
   ],
   "source": [
    "def AND(x1,x2):\n",
    "    w1, w2, theta = 0.5, 0.5, 0.6\n",
    "    \n",
    "    tmp = w1*x1 + w2*x2\n",
    "    \n",
    "    if tmp < theta:\n",
    "        return 0\n",
    "    else:\n",
    "        return 1\n",
    "print(AND(0,0),AND(0,1),AND(1,0),AND(1,1))"
   ]
  },
  {
   "cell_type": "markdown",
   "metadata": {},
   "source": [
    "### 与非门，或门"
   ]
  },
  {
   "cell_type": "markdown",
   "metadata": {},
   "source": [
    "#### 与非门\n",
    "输入x1 输入x2 输出  \n",
    "0   0   1       0 > theta  \n",
    "1   0   1       w1 > theta  \n",
    "0   1   1       w2 > theta   \n",
    "1   1   0       w1 + w2 <= theta   \n",
    "\n",
    "可取 w1 = -0.3, w2 = -0.3, theta = -0.5  "
   ]
  },
  {
   "cell_type": "code",
   "execution_count": 2,
   "metadata": {},
   "outputs": [
    {
     "name": "stdout",
     "output_type": "stream",
     "text": [
      "1 1 1 0\n"
     ]
    }
   ],
   "source": [
    "def NAND(x1,x2):\n",
    "    w1, w2, theta = -0.3, -0.3, -0.5\n",
    "    \n",
    "    tmp = w1*x1 + w2*x2\n",
    "    \n",
    "    if tmp < theta:\n",
    "        return 0\n",
    "    else:\n",
    "        return 1\n",
    "print(NAND(0,0),NAND(0,1),NAND(1,0),NAND(1,1))"
   ]
  },
  {
   "cell_type": "markdown",
   "metadata": {},
   "source": [
    "#### 或门\n",
    "输入x1 输入x2 输出  \n",
    "0   0   0       0 < theta  \n",
    "1   0   1       w1 > theta  \n",
    "0   1   1       w2 > theta   \n",
    "1   1   1      w1 + w2 > theta   \n",
    "可取 w1 = 0.5   w2 = 0.5    theta = 0.3  "
   ]
  },
  {
   "cell_type": "code",
   "execution_count": 3,
   "metadata": {},
   "outputs": [
    {
     "name": "stdout",
     "output_type": "stream",
     "text": [
      "0 1 1 1\n"
     ]
    }
   ],
   "source": [
    "def OR(x1,x2):\n",
    "    w1, w2, theta = 0.5, 0.5, 0.3\n",
    "    tmp = w1*x1 + w2*x2\n",
    "    \n",
    "    if tmp < theta:\n",
    "        return 0\n",
    "    else:\n",
    "        return 1\n",
    "print(OR(0,0),OR(0,1),OR(1,0),OR(1,1)) "
   ]
  },
  {
   "cell_type": "markdown",
   "metadata": {},
   "source": [
    "### 异或门\n",
    "异或门不能直接用感知机实现      \n",
    "\n",
    "x1 x2 异或门  \n",
    "0   0   1       0 > theta  \n",
    "1   0   0       w1 < theta  \n",
    "0   1   0       w2 < theta   \n",
    "1   1   1      w1 + w2 > theta \n",
    "\n",
    "\n",
    "可以结合与非门和或门实现异或门  \n",
    "现在输入 x1, x2,经过与非门运算得到新的 x1, 经过或门运算得到新的 x2  \n",
    "\n",
    "x1  x2    与门    与非门  或门    异或门        \n",
    "0   0     0       1       0       1     w1 > theta  \n",
    "1   0     0       1       1       0     w1 + w2 <= theta  \n",
    "0   1     0       1       1       0       \n",
    "1   1     1       0       1       1     w2 > theta  \n",
    "\n",
    "可取 w1 = -0.5, w2 = -0.5, theta = -0.8  \n"
   ]
  },
  {
   "cell_type": "code",
   "execution_count": 4,
   "metadata": {},
   "outputs": [
    {
     "name": "stdout",
     "output_type": "stream",
     "text": [
      "1 0 0 1\n"
     ]
    }
   ],
   "source": [
    "def XOR(x1,x2):\n",
    "    x1_temp = x1\n",
    "\n",
    "    x1 = NAND(x1,x2)\n",
    "    x2 = OR(x1_temp,x2)\n",
    "    \n",
    "    w1, w2, theta = -0.5, -0.5, -0.8\n",
    "    tmp = w1*x1 + w2*x2\n",
    "    \n",
    "    if tmp < theta:\n",
    "        return 0\n",
    "    else:\n",
    "        return 1\n",
    "print(XOR(0,0),XOR(0,1),XOR(1,0),XOR(1,1)) \n"
   ]
  },
  {
   "cell_type": "code",
   "execution_count": null,
   "metadata": {},
   "outputs": [],
   "source": []
  }
 ],
 "metadata": {
  "kernelspec": {
   "display_name": "Python 3.10.0 64-bit",
   "language": "python",
   "name": "python3"
  },
  "language_info": {
   "codemirror_mode": {
    "name": "ipython",
    "version": 3
   },
   "file_extension": ".py",
   "mimetype": "text/x-python",
   "name": "python",
   "nbconvert_exporter": "python",
   "pygments_lexer": "ipython3",
   "version": "3.10.0"
  },
  "orig_nbformat": 4,
  "vscode": {
   "interpreter": {
    "hash": "52078a61cf360e1cb9de801769e3cf77056a7e6fc9ad1b4a4e5b78b8e2b4c3dc"
   }
  }
 },
 "nbformat": 4,
 "nbformat_minor": 2
}
