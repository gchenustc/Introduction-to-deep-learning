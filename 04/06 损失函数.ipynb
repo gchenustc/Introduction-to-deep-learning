{
 "cells": [
  {
   "cell_type": "markdown",
   "metadata": {},
   "source": [
    "## loss function"
   ]
  },
  {
   "cell_type": "code",
   "execution_count": 87,
   "metadata": {},
   "outputs": [],
   "source": [
    "# 均方误差\n",
    "def mean_square_error(y,t):\n",
    "    # y 是预测值，t 是监督数据\n",
    "    # t 传入的是 one-hot，比如 y = [0.1,0.3,0.5,0.05,0.15], t = [0,0,1,0,0], 表示预测为0.5概率的情况概率实际上发生\n",
    "    size = y.shape[0]\n",
    "    return (1/size) * np.sum((y-t) ** 2)\n",
    "\n",
    "\n",
    "# mini-batch\n",
    "# 如果想针对 多个数据 的 loss-function，以均方误差为例\n",
    "def mean_square_error(y,t):\n",
    "    \"\"\"\n",
    "    可以传入一维(单个数据)或者二维(多个数据)的 y (预测数据)，一维的会在函数内转换为二维\n",
    "    传入的 t(监督数据) 可以是one-hot的形式，比如 t=[[0,0,1],[0,1,0]]，或者 t=[2,1]\n",
    "    \"\"\"\n",
    "    if y.ndim == 1:  # y = [1,2,4]\n",
    "        # 如果 ndim 为 1，为了统一，转换为 2 维\n",
    "        y = y.reshape(1,y.size)  # [[1,2,4]]\n",
    "\n",
    "    if t.ndim == 1:\n",
    "        t = t.reshape(1,t.size)  # [[0,0,1]]\n",
    "\n",
    "    if t.size != y.size: # 如果不等，说明t不是one-hot形式，转换为one-hot. 比如 t = [[2,1,4]]\n",
    "        t_x = y.shape[0] \n",
    "        t_y = y.shape[1]\n",
    "        t_bak = t.copy() # [[2,1,4]]\n",
    "        t = np.zeros((t_x,t_y))\n",
    "        t[np.arange(t_x),t_bak.flatten()] = 1  # t_bak.flattern: [2,1,4]\n",
    "\n",
    "    # y 是预测值，t 是监督数据\n",
    "    batch_size = y.shape[0]\n",
    "    return np.sum((1/y.shape[1])* np.sum((y-t) ** 2, axis=1)) / batch_size\n",
    "\n",
    "\n",
    "# 交叉熵误差\n",
    "# E = -sigma(tk * log(yk)) # 在这里只有 t 中为 1 的数和对应位置的 y 参与运算 E = -log(yi)\n",
    "def cross_entropy_error(y,t):\n",
    "    delta = 1e-7  # 为了防止 yk 值过小，log(yk)的值就会非常大，导致溢出\n",
    "    return -np.sum(t * np.log(y + delta))\n",
    "\n",
    "\n",
    "# mini-batch\n",
    "# 如果想针对 多个数据 的 loss-function，以交叉熵函数为例\n",
    "def cross_entropy_error(y,t):\n",
    "    \n",
    "    \"\"\"\n",
    "    可以传入一维(单个数据)或者二维(多个数据)的 y (预测数据)，一维的会在函数内转换为二维\n",
    "    传入的 t(监督数据) 可以是one-hot的形式，比如 t=[[0,0,1],[0,1,0]]，或者 t=[2,1]\n",
    "    \"\"\"\n",
    "\n",
    "    delta = 1e-7\n",
    "\n",
    "    if y.ndim == 1:  # y = [1,2,4] t = [0,0,1]\n",
    "        # 如果 ndim 为 1，为了统一，转换为 2 维\n",
    "        y = y.reshape(1,y.size)  # [[1,2,4]]\n",
    "        t = t.reshape(1,t.size)  # [[0,0,1]]\n",
    "\n",
    "    if t.size == y.size:  # 将 one-hot 形式转换为普通形式 比如 t=[[0,0,1],[0,1,0]] -->  t=[2,1]\n",
    "        t = t.argmax(axis=1)\n",
    "    \n",
    "    batch_size = y.shape[0] # 数据个数 \n",
    "    # return -np.sum(t*np.log(y + delta)) / batch_size\n",
    "    return -np.sum(np.log(y[np.arange(batch_size),t])) / batch_size"
   ]
  },
  {
   "cell_type": "code",
   "execution_count": 103,
   "metadata": {},
   "outputs": [
    {
     "name": "stdout",
     "output_type": "stream",
     "text": [
      "mean-square-error\n",
      "0.07500000000000001\n",
      "0.13599999999999998\n",
      "0.261\n",
      "cross-entropy-error\n",
      "0.6931471805599453\n",
      "1.2039728043259361\n",
      "2.995732273553991\n",
      "mini-batch and one-hot\n",
      "0.15733333333333333\n",
      "1.6309507528132905\n",
      "mini-batch and not one-hot\n",
      "0.15733333333333333\n",
      "1.6309507528132905\n"
     ]
    }
   ],
   "source": [
    "# debug\n",
    "import numpy as np\n",
    "\n",
    "y = np.array([0.1, 0.3, 0.5, 0.05, 0.15])  # 预测比较准的 y\n",
    "t = np.array([0, 0, 1, 0, 0])\n",
    "\n",
    "y1 = np.array([0.4, 0.1, 0.3, 0.1, 0.1])  # 预测不准的 y\n",
    "y2 = np.array([0.6, 0.1, 0.05, 0.15, 0.1])  # 预测非常不准的 y\n",
    "\n",
    "# mini-batch\n",
    "y3 = np.array([[0.1, 0.3, 0.5, 0.05, 0.15],[0.4,0.1,0.3,0.1,0.1],[0.6,0.1,0.05,0.15,0.1]])\n",
    "    # one-hot\n",
    "t3 = np.array([[0, 0, 1, 0, 0], [0, 0, 1, 0, 0], [0, 0, 1, 0, 0]])\n",
    "    # not one-hot\n",
    "t4 = np.array([2,2,2])\n",
    "\n",
    "print('mean-square-error')\n",
    "print(mean_square_error(y,t))\n",
    "print(mean_square_error(y1,t))\n",
    "print(mean_square_error(y2,t))\n",
    "print('cross-entropy-error')\n",
    "print(cross_entropy_error(y,t))\n",
    "print(cross_entropy_error(y1,t))\n",
    "print(cross_entropy_error(y2,t))\n",
    "print('mini-batch and one-hot')\n",
    "print(mean_square_error(y3,t3))\n",
    "print(cross_entropy_error(y3,t3))\n",
    "print('mini-batch and not one-hot')\n",
    "print(mean_square_error(y3,t4))\n",
    "print(cross_entropy_error(y3,t4))"
   ]
  },
  {
   "cell_type": "code",
   "execution_count": null,
   "metadata": {},
   "outputs": [],
   "source": []
  }
 ],
 "metadata": {
  "kernelspec": {
   "display_name": "Python 3.10.0 64-bit",
   "language": "python",
   "name": "python3"
  },
  "language_info": {
   "codemirror_mode": {
    "name": "ipython",
    "version": 3
   },
   "file_extension": ".py",
   "mimetype": "text/x-python",
   "name": "python",
   "nbconvert_exporter": "python",
   "pygments_lexer": "ipython3",
   "version": "3.10.0"
  },
  "orig_nbformat": 4,
  "vscode": {
   "interpreter": {
    "hash": "52078a61cf360e1cb9de801769e3cf77056a7e6fc9ad1b4a4e5b78b8e2b4c3dc"
   }
  }
 },
 "nbformat": 4,
 "nbformat_minor": 2
}
