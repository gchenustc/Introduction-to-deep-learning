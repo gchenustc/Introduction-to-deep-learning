{
 "cells": [
  {
   "cell_type": "code",
   "execution_count": 2,
   "metadata": {},
   "outputs": [],
   "source": [
    "import numpy as np\n",
    "\n",
    "# 第一层\n",
    "\n",
    "# 输入\n",
    "X = np.array([1.0, 0.5])\n",
    "\n",
    "# 第一层的权重\n",
    "W1 = np.array([[0.1,0.3,0.5],[0.2,0.3,0.4]])\n",
    "\n",
    "# 第一层的偏置系数\n",
    "B1 = np.array([0.1,0.2,0.3])"
   ]
  },
  {
   "cell_type": "code",
   "execution_count": 3,
   "metadata": {},
   "outputs": [
    {
     "data": {
      "text/plain": [
       "array([0.57444252, 0.65701046, 0.73105858])"
      ]
     },
     "execution_count": 3,
     "metadata": {},
     "output_type": "execute_result"
    }
   ],
   "source": [
    "A1 = np.dot(X,W1) + B1\n",
    "\n",
    "# 激活函数\n",
    "def sigmoid(x):\n",
    "    return 1 / (1 + np.exp(-x))\n",
    "\n",
    "Z1 = sigmoid(A1) "
   ]
  },
  {
   "cell_type": "code",
   "execution_count": 6,
   "metadata": {},
   "outputs": [],
   "source": [
    "# 第二层\n",
    "\n",
    "# 输入即是 Z1\n",
    "\n",
    "# 权重\n",
    "W2 = np.array([[0.1,0.2],[0.2,0.3],[0.2,0.4]])\n",
    "B2 = np.array([0.2,0.5])\n",
    "\n",
    "A2 = np.dot(Z1,W2) + B2\n",
    "\n",
    "# 激活函数\n",
    "Z2 = sigmoid(A2)"
   ]
  },
  {
   "cell_type": "markdown",
   "metadata": {},
   "source": [
    "## 总结"
   ]
  },
  {
   "cell_type": "code",
   "execution_count": 21,
   "metadata": {},
   "outputs": [
    {
     "name": "stdout",
     "output_type": "stream",
     "text": [
      "[0.56034749 0.61957922]\n"
     ]
    }
   ],
   "source": [
    "def identity_fun(x):\n",
    "    return x\n",
    "\n",
    "def init_network():\n",
    "    network = {}\n",
    "    network['W1'] = np.array([[0.1,0.3,0.5],[0.2,0.3,0.4]])\n",
    "    network['B1'] = np.array([0.1,0.2,0.3])\n",
    "    network['W2'] = np.array([[0.1,0.2],[0.2,0.3],[0.2,0.4]])\n",
    "    network['B2'] = np.array([0.2,0.5])\n",
    "    network['W3'] = np.array([[0.3,0.2],[0.1,0.4]])\n",
    "    network['B3'] = np.array([0.3,0.2])\n",
    "\n",
    "    return network\n",
    "\n",
    "def forward(network, X):\n",
    "    W1,W2,W3 = network['W1'],network['W2'],network['W3']\n",
    "    B1,B2,B3 = network['B1'],network['B2'],network['B3']\n",
    "\n",
    "    A1 = np.dot(X,W1) + B1\n",
    "    Z1 = sigmoid(A1)\n",
    "\n",
    "    A2 = np.dot(Z1,W2) + B2\n",
    "    Z2 = sigmoid(A2)\n",
    "\n",
    "    A3 = np.dot(Z2,W3) + B3\n",
    "    Y = identity_fun(A3)\n",
    "    \n",
    "    return Y\n",
    "    \n",
    "\n",
    "network = init_network()\n",
    "X = np.array([0.2,0.3])\n",
    "Y = forward(network, X)\n",
    "print(Y)"
   ]
  },
  {
   "cell_type": "code",
   "execution_count": null,
   "metadata": {},
   "outputs": [],
   "source": []
  }
 ],
 "metadata": {
  "kernelspec": {
   "display_name": "Python 3.10.0 64-bit",
   "language": "python",
   "name": "python3"
  },
  "language_info": {
   "codemirror_mode": {
    "name": "ipython",
    "version": 3
   },
   "file_extension": ".py",
   "mimetype": "text/x-python",
   "name": "python",
   "nbconvert_exporter": "python",
   "pygments_lexer": "ipython3",
   "version": "3.10.0"
  },
  "orig_nbformat": 4,
  "vscode": {
   "interpreter": {
    "hash": "52078a61cf360e1cb9de801769e3cf77056a7e6fc9ad1b4a4e5b78b8e2b4c3dc"
   }
  }
 },
 "nbformat": 4,
 "nbformat_minor": 2
}
